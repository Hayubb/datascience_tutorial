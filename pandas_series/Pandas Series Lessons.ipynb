{
 "cells": [
  {
   "cell_type": "code",
   "execution_count": 1,
   "id": "8ce02da0",
   "metadata": {},
   "outputs": [],
   "source": [
    "import pandas as pd\n",
    "import numpy  as np"
   ]
  },
  {
   "cell_type": "code",
   "execution_count": 17,
   "id": "77ee4c8c",
   "metadata": {
    "scrolled": true
   },
   "outputs": [
    {
     "name": "stderr",
     "output_type": "stream",
     "text": [
      "C:\\Users\\knwafor\\AppData\\Local\\Temp/ipykernel_15332/1220666646.py:1: DeprecationWarning: The default dtype for empty Series will be 'object' instead of 'float64' in a future version. Specify a dtype explicitly to silence this warning.\n",
      "  df=pd.Series(dtype=None,index=None,data=None,copy=False)\n"
     ]
    }
   ],
   "source": [
    "df=pd.Series(dtype=None,index=None,data=None,copy=False)\n",
    "df1=pd.Series(index=[1,2,3,4,5,6,7],data=['a','b','k','j','l','p','q'],name='PSeries')"
   ]
  },
  {
   "cell_type": "code",
   "execution_count": 24,
   "id": "c38b117a",
   "metadata": {},
   "outputs": [
    {
     "data": {
      "text/plain": [
       "1    a\n",
       "2    b\n",
       "3    k\n",
       "4    j\n",
       "5    l\n",
       "6    p\n",
       "7    q\n",
       "Name: PSeries, dtype: object"
      ]
     },
     "execution_count": 24,
     "metadata": {},
     "output_type": "execute_result"
    }
   ],
   "source": [
    "df1"
   ]
  },
  {
   "cell_type": "code",
   "execution_count": 25,
   "id": "5a525a5f",
   "metadata": {},
   "outputs": [
    {
     "data": {
      "text/plain": [
       "dtype('O')"
      ]
     },
     "execution_count": 25,
     "metadata": {},
     "output_type": "execute_result"
    }
   ],
   "source": [
    "df1.dtype"
   ]
  },
  {
   "cell_type": "code",
   "execution_count": 26,
   "id": "818f806d",
   "metadata": {},
   "outputs": [
    {
     "data": {
      "text/plain": [
       "1    a\n",
       "2    b\n",
       "3    k\n",
       "4    j\n",
       "5    l\n",
       "6    p\n",
       "7    q\n",
       "Name: PSeries, dtype: object"
      ]
     },
     "execution_count": 26,
     "metadata": {},
     "output_type": "execute_result"
    }
   ],
   "source": [
    "df1.T"
   ]
  },
  {
   "cell_type": "code",
   "execution_count": 28,
   "id": "93895964",
   "metadata": {},
   "outputs": [
    {
     "data": {
      "text/plain": [
       "<PandasArray>\n",
       "['a', 'b', 'k', 'j', 'l', 'p', 'q']\n",
       "Length: 7, dtype: object"
      ]
     },
     "execution_count": 28,
     "metadata": {},
     "output_type": "execute_result"
    }
   ],
   "source": [
    "df1.array"
   ]
  },
  {
   "cell_type": "markdown",
   "id": "2a29bc9f",
   "metadata": {},
   "source": [
    "### Creating a pandas series"
   ]
  },
  {
   "cell_type": "markdown",
   "id": "f2a1b539",
   "metadata": {},
   "source": [
    "### Using list"
   ]
  },
  {
   "cell_type": "code",
   "execution_count": 116,
   "id": "e8a66fb3",
   "metadata": {},
   "outputs": [],
   "source": [
    "lst=['a','b','k','j','l','p','q']\n",
    "df_list=pd.Series(index=[1,2,3,4,5,6,7],data=lst,name='PSeries')"
   ]
  },
  {
   "cell_type": "code",
   "execution_count": 117,
   "id": "6f12e86f",
   "metadata": {},
   "outputs": [
    {
     "data": {
      "text/plain": [
       "1    a\n",
       "2    b\n",
       "3    k\n",
       "4    j\n",
       "5    l\n",
       "6    p\n",
       "7    q\n",
       "Name: PSeries, dtype: object"
      ]
     },
     "execution_count": 117,
     "metadata": {},
     "output_type": "execute_result"
    }
   ],
   "source": [
    "df_list"
   ]
  },
  {
   "cell_type": "markdown",
   "id": "35e98680",
   "metadata": {},
   "source": [
    "### using  dictionary"
   ]
  },
  {
   "cell_type": "code",
   "execution_count": 118,
   "id": "558ebae6",
   "metadata": {},
   "outputs": [],
   "source": [
    "lst={'a': 1, 'b': 2, 'c': 3}\n",
    "df_dict=pd.Series(data=lst,name='PSeries')"
   ]
  },
  {
   "cell_type": "code",
   "execution_count": 119,
   "id": "c0a398b2",
   "metadata": {},
   "outputs": [
    {
     "data": {
      "text/plain": [
       "a    1\n",
       "b    2\n",
       "c    3\n",
       "Name: PSeries, dtype: int64"
      ]
     },
     "execution_count": 119,
     "metadata": {},
     "output_type": "execute_result"
    }
   ],
   "source": [
    "df_dict"
   ]
  },
  {
   "cell_type": "markdown",
   "id": "f166df18",
   "metadata": {},
   "source": [
    "### Using an array"
   ]
  },
  {
   "cell_type": "code",
   "execution_count": 120,
   "id": "b4243d63",
   "metadata": {},
   "outputs": [],
   "source": [
    "lst=np.array([1,2,4,2,3,4,5,6,7,8,3,4,5,6,7])\n",
    "# indx=['a','b','k','j','l','p','q']\n",
    "df_arr=pd.Series(data=lst,name='PSeries')"
   ]
  },
  {
   "cell_type": "code",
   "execution_count": 121,
   "id": "f8ad4278",
   "metadata": {},
   "outputs": [
    {
     "data": {
      "text/plain": [
       "0     1\n",
       "1     2\n",
       "2     4\n",
       "3     2\n",
       "4     3\n",
       "5     4\n",
       "6     5\n",
       "7     6\n",
       "8     7\n",
       "9     8\n",
       "10    3\n",
       "11    4\n",
       "12    5\n",
       "13    6\n",
       "14    7\n",
       "Name: PSeries, dtype: int32"
      ]
     },
     "execution_count": 121,
     "metadata": {},
     "output_type": "execute_result"
    }
   ],
   "source": [
    "df_arr"
   ]
  },
  {
   "cell_type": "code",
   "execution_count": 122,
   "id": "c0175f0e",
   "metadata": {},
   "outputs": [],
   "source": [
    "df_arr.iloc[6]=9"
   ]
  },
  {
   "cell_type": "code",
   "execution_count": 123,
   "id": "665d3144",
   "metadata": {},
   "outputs": [
    {
     "data": {
      "text/plain": [
       "0     1\n",
       "1     2\n",
       "2     4\n",
       "3     2\n",
       "4     3\n",
       "5     4\n",
       "6     9\n",
       "7     6\n",
       "8     7\n",
       "9     8\n",
       "10    3\n",
       "11    4\n",
       "12    5\n",
       "13    6\n",
       "14    7\n",
       "Name: PSeries, dtype: int32"
      ]
     },
     "execution_count": 123,
     "metadata": {},
     "output_type": "execute_result"
    }
   ],
   "source": [
    "df_arr"
   ]
  },
  {
   "cell_type": "code",
   "execution_count": 124,
   "id": "7520f1cd",
   "metadata": {},
   "outputs": [],
   "source": [
    "df_arr[5]=24"
   ]
  },
  {
   "cell_type": "code",
   "execution_count": 125,
   "id": "9456cfdd",
   "metadata": {},
   "outputs": [
    {
     "data": {
      "text/plain": [
       "0      1\n",
       "1      2\n",
       "2      4\n",
       "3      2\n",
       "4      3\n",
       "5     24\n",
       "6      9\n",
       "7      6\n",
       "8      7\n",
       "9      8\n",
       "10     3\n",
       "11     4\n",
       "12     5\n",
       "13     6\n",
       "14     7\n",
       "Name: PSeries, dtype: int32"
      ]
     },
     "execution_count": 125,
     "metadata": {},
     "output_type": "execute_result"
    }
   ],
   "source": [
    "df_arr"
   ]
  },
  {
   "cell_type": "markdown",
   "id": "601ef488",
   "metadata": {},
   "source": [
    "#### Converting Pandas Series to an list or numpy array"
   ]
  },
  {
   "cell_type": "code",
   "execution_count": 126,
   "id": "b651aa70",
   "metadata": {},
   "outputs": [],
   "source": [
    "ser_arr=pd.Series(df_arr).array"
   ]
  },
  {
   "cell_type": "code",
   "execution_count": 127,
   "id": "52b06d62",
   "metadata": {},
   "outputs": [
    {
     "data": {
      "text/plain": [
       "<PandasArray>\n",
       "[1, 2, 4, 2, 3, 24, 9, 6, 7, 8, 3, 4, 5, 6, 7]\n",
       "Length: 15, dtype: int32"
      ]
     },
     "execution_count": 127,
     "metadata": {},
     "output_type": "execute_result"
    }
   ],
   "source": [
    "ser_arr"
   ]
  },
  {
   "cell_type": "code",
   "execution_count": 128,
   "id": "2456ba50",
   "metadata": {},
   "outputs": [
    {
     "data": {
      "text/plain": [
       "<PandasArray>\n",
       "[1, 2, 4, 3, 24, 9, 6, 7, 8, 5]\n",
       "Length: 10, dtype: int32"
      ]
     },
     "execution_count": 128,
     "metadata": {},
     "output_type": "execute_result"
    }
   ],
   "source": [
    "ser_arr.unique()"
   ]
  },
  {
   "cell_type": "code",
   "execution_count": 138,
   "id": "ae376c4e",
   "metadata": {},
   "outputs": [],
   "source": [
    "df=pd.DataFrame(ser_arr,columns=['first'])"
   ]
  },
  {
   "cell_type": "code",
   "execution_count": 139,
   "id": "07f62aa9",
   "metadata": {},
   "outputs": [
    {
     "data": {
      "text/html": [
       "<div>\n",
       "<style scoped>\n",
       "    .dataframe tbody tr th:only-of-type {\n",
       "        vertical-align: middle;\n",
       "    }\n",
       "\n",
       "    .dataframe tbody tr th {\n",
       "        vertical-align: top;\n",
       "    }\n",
       "\n",
       "    .dataframe thead th {\n",
       "        text-align: right;\n",
       "    }\n",
       "</style>\n",
       "<table border=\"1\" class=\"dataframe\">\n",
       "  <thead>\n",
       "    <tr style=\"text-align: right;\">\n",
       "      <th></th>\n",
       "      <th>first</th>\n",
       "    </tr>\n",
       "  </thead>\n",
       "  <tbody>\n",
       "    <tr>\n",
       "      <th>0</th>\n",
       "      <td>1</td>\n",
       "    </tr>\n",
       "    <tr>\n",
       "      <th>1</th>\n",
       "      <td>2</td>\n",
       "    </tr>\n",
       "    <tr>\n",
       "      <th>2</th>\n",
       "      <td>4</td>\n",
       "    </tr>\n",
       "    <tr>\n",
       "      <th>3</th>\n",
       "      <td>2</td>\n",
       "    </tr>\n",
       "    <tr>\n",
       "      <th>4</th>\n",
       "      <td>3</td>\n",
       "    </tr>\n",
       "    <tr>\n",
       "      <th>5</th>\n",
       "      <td>24</td>\n",
       "    </tr>\n",
       "    <tr>\n",
       "      <th>6</th>\n",
       "      <td>9</td>\n",
       "    </tr>\n",
       "    <tr>\n",
       "      <th>7</th>\n",
       "      <td>6</td>\n",
       "    </tr>\n",
       "    <tr>\n",
       "      <th>8</th>\n",
       "      <td>7</td>\n",
       "    </tr>\n",
       "    <tr>\n",
       "      <th>9</th>\n",
       "      <td>8</td>\n",
       "    </tr>\n",
       "    <tr>\n",
       "      <th>10</th>\n",
       "      <td>3</td>\n",
       "    </tr>\n",
       "    <tr>\n",
       "      <th>11</th>\n",
       "      <td>4</td>\n",
       "    </tr>\n",
       "    <tr>\n",
       "      <th>12</th>\n",
       "      <td>5</td>\n",
       "    </tr>\n",
       "    <tr>\n",
       "      <th>13</th>\n",
       "      <td>6</td>\n",
       "    </tr>\n",
       "    <tr>\n",
       "      <th>14</th>\n",
       "      <td>7</td>\n",
       "    </tr>\n",
       "  </tbody>\n",
       "</table>\n",
       "</div>"
      ],
      "text/plain": [
       "    first\n",
       "0       1\n",
       "1       2\n",
       "2       4\n",
       "3       2\n",
       "4       3\n",
       "5      24\n",
       "6       9\n",
       "7       6\n",
       "8       7\n",
       "9       8\n",
       "10      3\n",
       "11      4\n",
       "12      5\n",
       "13      6\n",
       "14      7"
      ]
     },
     "execution_count": 139,
     "metadata": {},
     "output_type": "execute_result"
    }
   ],
   "source": [
    "df"
   ]
  },
  {
   "cell_type": "code",
   "execution_count": 141,
   "id": "2c12112e",
   "metadata": {},
   "outputs": [
    {
     "data": {
      "text/plain": [
       "6.066666666666666"
      ]
     },
     "execution_count": 141,
     "metadata": {},
     "output_type": "execute_result"
    }
   ],
   "source": [
    "ser_arr.mean()"
   ]
  },
  {
   "cell_type": "code",
   "execution_count": 148,
   "id": "de85f15e",
   "metadata": {},
   "outputs": [
    {
     "data": {
      "text/plain": [
       "<PandasArray>\n",
       "[1, 2, 4, 2, 3, 24, 9, 6, 7, 8, 3, 4, 5, 6, 7]\n",
       "Length: 15, dtype: int32"
      ]
     },
     "execution_count": 148,
     "metadata": {},
     "output_type": "execute_result"
    }
   ],
   "source": [
    "ser_arr"
   ]
  },
  {
   "cell_type": "markdown",
   "id": "5269f56f",
   "metadata": {},
   "source": [
    "### Pandas DataFrame"
   ]
  },
  {
   "cell_type": "markdown",
   "id": "a37e46e3",
   "metadata": {},
   "source": [
    "#### Creating A DataFrame"
   ]
  },
  {
   "cell_type": "markdown",
   "id": "8bf72392",
   "metadata": {},
   "source": [
    "- Using A lists in a list\n",
    "- Using  list of dictionary\n",
    "- Using dictionary in a dictionary\n",
    "- Using a list of tuples\n",
    "- From a database table\n",
    "- From a csv file\n",
    "- From an excel file\n",
    "- Html table\n",
    "- Json\n"
   ]
  },
  {
   "cell_type": "markdown",
   "id": "2c27286d",
   "metadata": {},
   "source": [
    "#### A list in a list"
   ]
  },
  {
   "cell_type": "code",
   "execution_count": 169,
   "id": "91305bfd",
   "metadata": {},
   "outputs": [],
   "source": [
    "records=[['Alice', 19, \"F\", \"actor\"],\n",
    "['Peter', 18, \"M\", \"student\"],\n",
    "['Aayub', 15, \"M\", \"student\"],\n",
    "['Kingsley', 17, \"M\", \"student\"],\n",
    "['John', 17, \"M\", \"student\"],\n",
    "['Seyi', 16, \"F\", \"student\"],\n",
    "['Bayo', 19, \"M\", \"footballer\"],\n",
    "['Grace', 15, \"F\", \"student\"],\n",
    "['Asake', 17, \"F\", \"singer\"],\n",
    "['Mike', 20, \"M\", \"Basketballer\"]]\n",
    "columns=['name', 'age', 'gender', 'job']"
   ]
  },
  {
   "cell_type": "markdown",
   "id": "3e4e4c4d",
   "metadata": {},
   "source": [
    "##### class pandas.DataFrame(data=None, index=None, columns=None, dtype=None, copy=None)[source]\n"
   ]
  },
  {
   "cell_type": "code",
   "execution_count": 175,
   "id": "20a9fa0d",
   "metadata": {},
   "outputs": [
    {
     "data": {
      "text/html": [
       "<div>\n",
       "<style scoped>\n",
       "    .dataframe tbody tr th:only-of-type {\n",
       "        vertical-align: middle;\n",
       "    }\n",
       "\n",
       "    .dataframe tbody tr th {\n",
       "        vertical-align: top;\n",
       "    }\n",
       "\n",
       "    .dataframe thead th {\n",
       "        text-align: right;\n",
       "    }\n",
       "</style>\n",
       "<table border=\"1\" class=\"dataframe\">\n",
       "  <thead>\n",
       "    <tr style=\"text-align: right;\">\n",
       "      <th></th>\n",
       "      <th>name</th>\n",
       "      <th>age</th>\n",
       "      <th>gender</th>\n",
       "      <th>job</th>\n",
       "    </tr>\n",
       "  </thead>\n",
       "  <tbody>\n",
       "    <tr>\n",
       "      <th>0</th>\n",
       "      <td>Alice</td>\n",
       "      <td>19</td>\n",
       "      <td>F</td>\n",
       "      <td>actor</td>\n",
       "    </tr>\n",
       "    <tr>\n",
       "      <th>1</th>\n",
       "      <td>Peter</td>\n",
       "      <td>18</td>\n",
       "      <td>M</td>\n",
       "      <td>student</td>\n",
       "    </tr>\n",
       "    <tr>\n",
       "      <th>2</th>\n",
       "      <td>Aayub</td>\n",
       "      <td>15</td>\n",
       "      <td>M</td>\n",
       "      <td>student</td>\n",
       "    </tr>\n",
       "    <tr>\n",
       "      <th>3</th>\n",
       "      <td>Kingsley</td>\n",
       "      <td>17</td>\n",
       "      <td>M</td>\n",
       "      <td>student</td>\n",
       "    </tr>\n",
       "    <tr>\n",
       "      <th>4</th>\n",
       "      <td>John</td>\n",
       "      <td>17</td>\n",
       "      <td>M</td>\n",
       "      <td>student</td>\n",
       "    </tr>\n",
       "    <tr>\n",
       "      <th>5</th>\n",
       "      <td>Seyi</td>\n",
       "      <td>16</td>\n",
       "      <td>F</td>\n",
       "      <td>student</td>\n",
       "    </tr>\n",
       "    <tr>\n",
       "      <th>6</th>\n",
       "      <td>Bayo</td>\n",
       "      <td>19</td>\n",
       "      <td>M</td>\n",
       "      <td>footballer</td>\n",
       "    </tr>\n",
       "    <tr>\n",
       "      <th>7</th>\n",
       "      <td>Grace</td>\n",
       "      <td>15</td>\n",
       "      <td>F</td>\n",
       "      <td>student</td>\n",
       "    </tr>\n",
       "    <tr>\n",
       "      <th>8</th>\n",
       "      <td>Asake</td>\n",
       "      <td>17</td>\n",
       "      <td>F</td>\n",
       "      <td>singer</td>\n",
       "    </tr>\n",
       "    <tr>\n",
       "      <th>9</th>\n",
       "      <td>Mike</td>\n",
       "      <td>20</td>\n",
       "      <td>M</td>\n",
       "      <td>Basketballer</td>\n",
       "    </tr>\n",
       "  </tbody>\n",
       "</table>\n",
       "</div>"
      ],
      "text/plain": [
       "       name  age gender           job\n",
       "0     Alice   19      F         actor\n",
       "1     Peter   18      M       student\n",
       "2     Aayub   15      M       student\n",
       "3  Kingsley   17      M       student\n",
       "4      John   17      M       student\n",
       "5      Seyi   16      F       student\n",
       "6      Bayo   19      M    footballer\n",
       "7     Grace   15      F       student\n",
       "8     Asake   17      F        singer\n",
       "9      Mike   20      M  Basketballer"
      ]
     },
     "execution_count": 175,
     "metadata": {},
     "output_type": "execute_result"
    }
   ],
   "source": [
    "df_list_=pd.DataFrame(data=records,columns=columns)\n",
    "df_list_"
   ]
  },
  {
   "cell_type": "code",
   "execution_count": 184,
   "id": "a9c3512f",
   "metadata": {},
   "outputs": [],
   "source": [
    "def changing_a_column_to_a_list(column):\n",
    "    np_arr=np.array(column)\n",
    "    name_=np_arr.tolist()\n",
    "    return name_\n",
    "name_=changing_a_column_to_a_list(df_list_.name)\n",
    "age_=changing_a_column_to_a_list(df_list_.age)\n",
    "gender_=changing_a_column_to_a_list(df_list_.gender)\n",
    "job_=changing_a_column_to_a_list(df_list_.job)"
   ]
  },
  {
   "cell_type": "markdown",
   "id": "ca91f262",
   "metadata": {},
   "source": [
    "#### Using A Dictionary to create a pandas DataFrame"
   ]
  },
  {
   "cell_type": "code",
   "execution_count": 185,
   "id": "c7d7fecd",
   "metadata": {},
   "outputs": [
    {
     "data": {
      "text/html": [
       "<div>\n",
       "<style scoped>\n",
       "    .dataframe tbody tr th:only-of-type {\n",
       "        vertical-align: middle;\n",
       "    }\n",
       "\n",
       "    .dataframe tbody tr th {\n",
       "        vertical-align: top;\n",
       "    }\n",
       "\n",
       "    .dataframe thead th {\n",
       "        text-align: right;\n",
       "    }\n",
       "</style>\n",
       "<table border=\"1\" class=\"dataframe\">\n",
       "  <thead>\n",
       "    <tr style=\"text-align: right;\">\n",
       "      <th></th>\n",
       "      <th>Name</th>\n",
       "      <th>age</th>\n",
       "      <th>gender</th>\n",
       "      <th>job</th>\n",
       "    </tr>\n",
       "  </thead>\n",
       "  <tbody>\n",
       "    <tr>\n",
       "      <th>0</th>\n",
       "      <td>Alice</td>\n",
       "      <td>19</td>\n",
       "      <td>F</td>\n",
       "      <td>actor</td>\n",
       "    </tr>\n",
       "    <tr>\n",
       "      <th>1</th>\n",
       "      <td>Peter</td>\n",
       "      <td>18</td>\n",
       "      <td>M</td>\n",
       "      <td>student</td>\n",
       "    </tr>\n",
       "    <tr>\n",
       "      <th>2</th>\n",
       "      <td>Aayub</td>\n",
       "      <td>15</td>\n",
       "      <td>M</td>\n",
       "      <td>student</td>\n",
       "    </tr>\n",
       "    <tr>\n",
       "      <th>3</th>\n",
       "      <td>Kingsley</td>\n",
       "      <td>17</td>\n",
       "      <td>M</td>\n",
       "      <td>student</td>\n",
       "    </tr>\n",
       "    <tr>\n",
       "      <th>4</th>\n",
       "      <td>John</td>\n",
       "      <td>17</td>\n",
       "      <td>M</td>\n",
       "      <td>student</td>\n",
       "    </tr>\n",
       "    <tr>\n",
       "      <th>5</th>\n",
       "      <td>Seyi</td>\n",
       "      <td>16</td>\n",
       "      <td>F</td>\n",
       "      <td>student</td>\n",
       "    </tr>\n",
       "    <tr>\n",
       "      <th>6</th>\n",
       "      <td>Bayo</td>\n",
       "      <td>19</td>\n",
       "      <td>M</td>\n",
       "      <td>footballer</td>\n",
       "    </tr>\n",
       "    <tr>\n",
       "      <th>7</th>\n",
       "      <td>Grace</td>\n",
       "      <td>15</td>\n",
       "      <td>F</td>\n",
       "      <td>student</td>\n",
       "    </tr>\n",
       "    <tr>\n",
       "      <th>8</th>\n",
       "      <td>Asake</td>\n",
       "      <td>17</td>\n",
       "      <td>F</td>\n",
       "      <td>singer</td>\n",
       "    </tr>\n",
       "    <tr>\n",
       "      <th>9</th>\n",
       "      <td>Mike</td>\n",
       "      <td>20</td>\n",
       "      <td>M</td>\n",
       "      <td>Basketballer</td>\n",
       "    </tr>\n",
       "  </tbody>\n",
       "</table>\n",
       "</div>"
      ],
      "text/plain": [
       "       Name  age gender           job\n",
       "0     Alice   19      F         actor\n",
       "1     Peter   18      M       student\n",
       "2     Aayub   15      M       student\n",
       "3  Kingsley   17      M       student\n",
       "4      John   17      M       student\n",
       "5      Seyi   16      F       student\n",
       "6      Bayo   19      M    footballer\n",
       "7     Grace   15      F       student\n",
       "8     Asake   17      F        singer\n",
       "9      Mike   20      M  Basketballer"
      ]
     },
     "execution_count": 185,
     "metadata": {},
     "output_type": "execute_result"
    }
   ],
   "source": [
    "d = {'Name':name_ , 'age': age_,'gender':gender_,'job':job_}\n",
    "df = pd.DataFrame(data=d)\n",
    "df"
   ]
  },
  {
   "cell_type": "markdown",
   "id": "87a96bfd",
   "metadata": {},
   "source": [
    "#### Dictionary in a dictionary"
   ]
  },
  {
   "cell_type": "code",
   "execution_count": 197,
   "id": "d56faa9a",
   "metadata": {},
   "outputs": [
    {
     "data": {
      "text/html": [
       "<div>\n",
       "<style scoped>\n",
       "    .dataframe tbody tr th:only-of-type {\n",
       "        vertical-align: middle;\n",
       "    }\n",
       "\n",
       "    .dataframe tbody tr th {\n",
       "        vertical-align: top;\n",
       "    }\n",
       "\n",
       "    .dataframe thead th {\n",
       "        text-align: right;\n",
       "    }\n",
       "</style>\n",
       "<table border=\"1\" class=\"dataframe\">\n",
       "  <thead>\n",
       "    <tr style=\"text-align: right;\">\n",
       "      <th></th>\n",
       "      <th>Name</th>\n",
       "      <th>Age</th>\n",
       "      <th>Gender</th>\n",
       "      <th>job</th>\n",
       "    </tr>\n",
       "  </thead>\n",
       "  <tbody>\n",
       "    <tr>\n",
       "      <th>name</th>\n",
       "      <td>John</td>\n",
       "      <td>Marie</td>\n",
       "      <td>Marie</td>\n",
       "      <td>kngsely</td>\n",
       "    </tr>\n",
       "    <tr>\n",
       "      <th>age</th>\n",
       "      <td>27</td>\n",
       "      <td>22</td>\n",
       "      <td>22</td>\n",
       "      <td>22</td>\n",
       "    </tr>\n",
       "    <tr>\n",
       "      <th>gender</th>\n",
       "      <td>Male</td>\n",
       "      <td>Female</td>\n",
       "      <td>Female</td>\n",
       "      <td>25</td>\n",
       "    </tr>\n",
       "  </tbody>\n",
       "</table>\n",
       "</div>"
      ],
      "text/plain": [
       "        Name     Age  Gender      job\n",
       "name    John   Marie   Marie  kngsely\n",
       "age       27      22      22       22\n",
       "gender  Male  Female  Female       25"
      ]
     },
     "execution_count": 197,
     "metadata": {},
     "output_type": "execute_result"
    }
   ],
   "source": [
    "\n",
    "people = {'Name': {'name': 'John', 'age': '27', 'gender': 'Male' },\n",
    "          'Age': {'name': 'Marie', 'age': '22', 'gender': 'Female'},\n",
    "         'Gender': {'name': 'Marie', 'age': '22', 'gender': 'Female'},\n",
    "         'job': {'name': 'kngsely', 'age': 22, 'gender': }}\n",
    "pd.DataFrame(people)"
   ]
  },
  {
   "cell_type": "markdown",
   "id": "1cf84af8",
   "metadata": {},
   "source": [
    "#### creating a dataframe using a list of tuples"
   ]
  },
  {
   "cell_type": "code",
   "execution_count": 200,
   "id": "9cdc2b3e",
   "metadata": {},
   "outputs": [],
   "source": [
    "d=[('Alice', 19, \"F\", \"actor\"),\n",
    "('Peter', 18, \"M\", \"student\"),\n",
    "('Aayub', 15, \"M\", \"student\"),\n",
    "('Kingsley', 17, \"M\", \"student\")]"
   ]
  },
  {
   "cell_type": "code",
   "execution_count": 204,
   "id": "10449df0",
   "metadata": {},
   "outputs": [
    {
     "data": {
      "text/html": [
       "<div>\n",
       "<style scoped>\n",
       "    .dataframe tbody tr th:only-of-type {\n",
       "        vertical-align: middle;\n",
       "    }\n",
       "\n",
       "    .dataframe tbody tr th {\n",
       "        vertical-align: top;\n",
       "    }\n",
       "\n",
       "    .dataframe thead th {\n",
       "        text-align: right;\n",
       "    }\n",
       "</style>\n",
       "<table border=\"1\" class=\"dataframe\">\n",
       "  <thead>\n",
       "    <tr style=\"text-align: right;\">\n",
       "      <th></th>\n",
       "      <th>name</th>\n",
       "      <th>age</th>\n",
       "      <th>gender</th>\n",
       "      <th>job</th>\n",
       "    </tr>\n",
       "  </thead>\n",
       "  <tbody>\n",
       "    <tr>\n",
       "      <th>0</th>\n",
       "      <td>Alice</td>\n",
       "      <td>19</td>\n",
       "      <td>F</td>\n",
       "      <td>actor</td>\n",
       "    </tr>\n",
       "    <tr>\n",
       "      <th>1</th>\n",
       "      <td>Peter</td>\n",
       "      <td>18</td>\n",
       "      <td>M</td>\n",
       "      <td>student</td>\n",
       "    </tr>\n",
       "    <tr>\n",
       "      <th>2</th>\n",
       "      <td>Aayub</td>\n",
       "      <td>15</td>\n",
       "      <td>M</td>\n",
       "      <td>student</td>\n",
       "    </tr>\n",
       "    <tr>\n",
       "      <th>3</th>\n",
       "      <td>Kingsley</td>\n",
       "      <td>17</td>\n",
       "      <td>M</td>\n",
       "      <td>student</td>\n",
       "    </tr>\n",
       "  </tbody>\n",
       "</table>\n",
       "</div>"
      ],
      "text/plain": [
       "       name  age gender      job\n",
       "0     Alice   19      F    actor\n",
       "1     Peter   18      M  student\n",
       "2     Aayub   15      M  student\n",
       "3  Kingsley   17      M  student"
      ]
     },
     "execution_count": 204,
     "metadata": {},
     "output_type": "execute_result"
    }
   ],
   "source": [
    "df = pd.DataFrame(data=d,columns=columns)\n",
    "df"
   ]
  },
  {
   "cell_type": "markdown",
   "id": "2906da30",
   "metadata": {},
   "source": [
    "#### Using csv"
   ]
  },
  {
   "cell_type": "code",
   "execution_count": 208,
   "id": "f911bccf",
   "metadata": {
    "scrolled": true
   },
   "outputs": [
    {
     "data": {
      "text/html": [
       "<div>\n",
       "<style scoped>\n",
       "    .dataframe tbody tr th:only-of-type {\n",
       "        vertical-align: middle;\n",
       "    }\n",
       "\n",
       "    .dataframe tbody tr th {\n",
       "        vertical-align: top;\n",
       "    }\n",
       "\n",
       "    .dataframe thead th {\n",
       "        text-align: right;\n",
       "    }\n",
       "</style>\n",
       "<table border=\"1\" class=\"dataframe\">\n",
       "  <thead>\n",
       "    <tr style=\"text-align: right;\">\n",
       "      <th></th>\n",
       "      <th>Year</th>\n",
       "      <th>Industry_aggregation_NZSIOC</th>\n",
       "      <th>Industry_code_NZSIOC</th>\n",
       "      <th>Industry_name_NZSIOC</th>\n",
       "      <th>Units</th>\n",
       "      <th>Variable_code</th>\n",
       "      <th>Variable_name</th>\n",
       "      <th>Variable_category</th>\n",
       "      <th>Value</th>\n",
       "      <th>Industry_code_ANZSIC06</th>\n",
       "    </tr>\n",
       "  </thead>\n",
       "  <tbody>\n",
       "    <tr>\n",
       "      <th>0</th>\n",
       "      <td>2021</td>\n",
       "      <td>Level 1</td>\n",
       "      <td>99999</td>\n",
       "      <td>All industries</td>\n",
       "      <td>Dollars (millions)</td>\n",
       "      <td>H01</td>\n",
       "      <td>Total income</td>\n",
       "      <td>Financial performance</td>\n",
       "      <td>757,504</td>\n",
       "      <td>ANZSIC06 divisions A-S (excluding classes K633...</td>\n",
       "    </tr>\n",
       "    <tr>\n",
       "      <th>1</th>\n",
       "      <td>2021</td>\n",
       "      <td>Level 1</td>\n",
       "      <td>99999</td>\n",
       "      <td>All industries</td>\n",
       "      <td>Dollars (millions)</td>\n",
       "      <td>H04</td>\n",
       "      <td>Sales, government funding, grants and subsidies</td>\n",
       "      <td>Financial performance</td>\n",
       "      <td>674,890</td>\n",
       "      <td>ANZSIC06 divisions A-S (excluding classes K633...</td>\n",
       "    </tr>\n",
       "    <tr>\n",
       "      <th>2</th>\n",
       "      <td>2021</td>\n",
       "      <td>Level 1</td>\n",
       "      <td>99999</td>\n",
       "      <td>All industries</td>\n",
       "      <td>Dollars (millions)</td>\n",
       "      <td>H05</td>\n",
       "      <td>Interest, dividends and donations</td>\n",
       "      <td>Financial performance</td>\n",
       "      <td>49,593</td>\n",
       "      <td>ANZSIC06 divisions A-S (excluding classes K633...</td>\n",
       "    </tr>\n",
       "    <tr>\n",
       "      <th>3</th>\n",
       "      <td>2021</td>\n",
       "      <td>Level 1</td>\n",
       "      <td>99999</td>\n",
       "      <td>All industries</td>\n",
       "      <td>Dollars (millions)</td>\n",
       "      <td>H07</td>\n",
       "      <td>Non-operating income</td>\n",
       "      <td>Financial performance</td>\n",
       "      <td>33,020</td>\n",
       "      <td>ANZSIC06 divisions A-S (excluding classes K633...</td>\n",
       "    </tr>\n",
       "    <tr>\n",
       "      <th>4</th>\n",
       "      <td>2021</td>\n",
       "      <td>Level 1</td>\n",
       "      <td>99999</td>\n",
       "      <td>All industries</td>\n",
       "      <td>Dollars (millions)</td>\n",
       "      <td>H08</td>\n",
       "      <td>Total expenditure</td>\n",
       "      <td>Financial performance</td>\n",
       "      <td>654,404</td>\n",
       "      <td>ANZSIC06 divisions A-S (excluding classes K633...</td>\n",
       "    </tr>\n",
       "  </tbody>\n",
       "</table>\n",
       "</div>"
      ],
      "text/plain": [
       "   Year Industry_aggregation_NZSIOC Industry_code_NZSIOC Industry_name_NZSIOC  \\\n",
       "0  2021                     Level 1                99999       All industries   \n",
       "1  2021                     Level 1                99999       All industries   \n",
       "2  2021                     Level 1                99999       All industries   \n",
       "3  2021                     Level 1                99999       All industries   \n",
       "4  2021                     Level 1                99999       All industries   \n",
       "\n",
       "                Units Variable_code  \\\n",
       "0  Dollars (millions)           H01   \n",
       "1  Dollars (millions)           H04   \n",
       "2  Dollars (millions)           H05   \n",
       "3  Dollars (millions)           H07   \n",
       "4  Dollars (millions)           H08   \n",
       "\n",
       "                                     Variable_name      Variable_category  \\\n",
       "0                                     Total income  Financial performance   \n",
       "1  Sales, government funding, grants and subsidies  Financial performance   \n",
       "2                Interest, dividends and donations  Financial performance   \n",
       "3                             Non-operating income  Financial performance   \n",
       "4                                Total expenditure  Financial performance   \n",
       "\n",
       "     Value                             Industry_code_ANZSIC06  \n",
       "0  757,504  ANZSIC06 divisions A-S (excluding classes K633...  \n",
       "1  674,890  ANZSIC06 divisions A-S (excluding classes K633...  \n",
       "2   49,593  ANZSIC06 divisions A-S (excluding classes K633...  \n",
       "3   33,020  ANZSIC06 divisions A-S (excluding classes K633...  \n",
       "4  654,404  ANZSIC06 divisions A-S (excluding classes K633...  "
      ]
     },
     "execution_count": 208,
     "metadata": {},
     "output_type": "execute_result"
    }
   ],
   "source": [
    "filepath=r\"C:\\Users\\knwafor\\Downloads\\annual-enterprise-survey-2021-financial-year-provisional-csv.csv\"\n",
    "df=pd.read_csv(filepath)\n",
    "df.head()"
   ]
  },
  {
   "cell_type": "code",
   "execution_count": 210,
   "id": "be67593f",
   "metadata": {
    "scrolled": true
   },
   "outputs": [
    {
     "data": {
      "text/html": [
       "<div>\n",
       "<style scoped>\n",
       "    .dataframe tbody tr th:only-of-type {\n",
       "        vertical-align: middle;\n",
       "    }\n",
       "\n",
       "    .dataframe tbody tr th {\n",
       "        vertical-align: top;\n",
       "    }\n",
       "\n",
       "    .dataframe thead th {\n",
       "        text-align: right;\n",
       "    }\n",
       "</style>\n",
       "<table border=\"1\" class=\"dataframe\">\n",
       "  <thead>\n",
       "    <tr style=\"text-align: right;\">\n",
       "      <th></th>\n",
       "      <th>Year</th>\n",
       "      <th>Industry_aggregation_NZSIOC</th>\n",
       "      <th>Industry_code_NZSIOC</th>\n",
       "      <th>Industry_name_NZSIOC</th>\n",
       "      <th>Units</th>\n",
       "      <th>Variable_code</th>\n",
       "      <th>Variable_name</th>\n",
       "      <th>Variable_category</th>\n",
       "      <th>Value</th>\n",
       "      <th>Industry_code_ANZSIC06</th>\n",
       "    </tr>\n",
       "  </thead>\n",
       "  <tbody>\n",
       "    <tr>\n",
       "      <th>0</th>\n",
       "      <td>2021</td>\n",
       "      <td>Level 1</td>\n",
       "      <td>99999</td>\n",
       "      <td>All industries</td>\n",
       "      <td>Dollars (millions)</td>\n",
       "      <td>H01</td>\n",
       "      <td>Total income</td>\n",
       "      <td>Financial performance</td>\n",
       "      <td>757,504</td>\n",
       "      <td>ANZSIC06 divisions A-S (excluding classes K633...</td>\n",
       "    </tr>\n",
       "    <tr>\n",
       "      <th>1</th>\n",
       "      <td>2021</td>\n",
       "      <td>Level 1</td>\n",
       "      <td>99999</td>\n",
       "      <td>All industries</td>\n",
       "      <td>Dollars (millions)</td>\n",
       "      <td>H04</td>\n",
       "      <td>Sales, government funding, grants and subsidies</td>\n",
       "      <td>Financial performance</td>\n",
       "      <td>674,890</td>\n",
       "      <td>ANZSIC06 divisions A-S (excluding classes K633...</td>\n",
       "    </tr>\n",
       "    <tr>\n",
       "      <th>2</th>\n",
       "      <td>2021</td>\n",
       "      <td>Level 1</td>\n",
       "      <td>99999</td>\n",
       "      <td>All industries</td>\n",
       "      <td>Dollars (millions)</td>\n",
       "      <td>H05</td>\n",
       "      <td>Interest, dividends and donations</td>\n",
       "      <td>Financial performance</td>\n",
       "      <td>49,593</td>\n",
       "      <td>ANZSIC06 divisions A-S (excluding classes K633...</td>\n",
       "    </tr>\n",
       "    <tr>\n",
       "      <th>3</th>\n",
       "      <td>2021</td>\n",
       "      <td>Level 1</td>\n",
       "      <td>99999</td>\n",
       "      <td>All industries</td>\n",
       "      <td>Dollars (millions)</td>\n",
       "      <td>H07</td>\n",
       "      <td>Non-operating income</td>\n",
       "      <td>Financial performance</td>\n",
       "      <td>33,020</td>\n",
       "      <td>ANZSIC06 divisions A-S (excluding classes K633...</td>\n",
       "    </tr>\n",
       "    <tr>\n",
       "      <th>4</th>\n",
       "      <td>2021</td>\n",
       "      <td>Level 1</td>\n",
       "      <td>99999</td>\n",
       "      <td>All industries</td>\n",
       "      <td>Dollars (millions)</td>\n",
       "      <td>H08</td>\n",
       "      <td>Total expenditure</td>\n",
       "      <td>Financial performance</td>\n",
       "      <td>654,404</td>\n",
       "      <td>ANZSIC06 divisions A-S (excluding classes K633...</td>\n",
       "    </tr>\n",
       "    <tr>\n",
       "      <th>...</th>\n",
       "      <td>...</td>\n",
       "      <td>...</td>\n",
       "      <td>...</td>\n",
       "      <td>...</td>\n",
       "      <td>...</td>\n",
       "      <td>...</td>\n",
       "      <td>...</td>\n",
       "      <td>...</td>\n",
       "      <td>...</td>\n",
       "      <td>...</td>\n",
       "    </tr>\n",
       "    <tr>\n",
       "      <th>41710</th>\n",
       "      <td>2013</td>\n",
       "      <td>Level 3</td>\n",
       "      <td>ZZ11</td>\n",
       "      <td>Food product manufacturing</td>\n",
       "      <td>Percentage</td>\n",
       "      <td>H37</td>\n",
       "      <td>Quick ratio</td>\n",
       "      <td>Financial ratios</td>\n",
       "      <td>52</td>\n",
       "      <td>ANZSIC06 groups C111, C112, C113, C114, C115, ...</td>\n",
       "    </tr>\n",
       "    <tr>\n",
       "      <th>41711</th>\n",
       "      <td>2013</td>\n",
       "      <td>Level 3</td>\n",
       "      <td>ZZ11</td>\n",
       "      <td>Food product manufacturing</td>\n",
       "      <td>Percentage</td>\n",
       "      <td>H38</td>\n",
       "      <td>Margin on sales of goods for resale</td>\n",
       "      <td>Financial ratios</td>\n",
       "      <td>40</td>\n",
       "      <td>ANZSIC06 groups C111, C112, C113, C114, C115, ...</td>\n",
       "    </tr>\n",
       "    <tr>\n",
       "      <th>41712</th>\n",
       "      <td>2013</td>\n",
       "      <td>Level 3</td>\n",
       "      <td>ZZ11</td>\n",
       "      <td>Food product manufacturing</td>\n",
       "      <td>Percentage</td>\n",
       "      <td>H39</td>\n",
       "      <td>Return on equity</td>\n",
       "      <td>Financial ratios</td>\n",
       "      <td>12</td>\n",
       "      <td>ANZSIC06 groups C111, C112, C113, C114, C115, ...</td>\n",
       "    </tr>\n",
       "    <tr>\n",
       "      <th>41713</th>\n",
       "      <td>2013</td>\n",
       "      <td>Level 3</td>\n",
       "      <td>ZZ11</td>\n",
       "      <td>Food product manufacturing</td>\n",
       "      <td>Percentage</td>\n",
       "      <td>H40</td>\n",
       "      <td>Return on total assets</td>\n",
       "      <td>Financial ratios</td>\n",
       "      <td>5</td>\n",
       "      <td>ANZSIC06 groups C111, C112, C113, C114, C115, ...</td>\n",
       "    </tr>\n",
       "    <tr>\n",
       "      <th>41714</th>\n",
       "      <td>2013</td>\n",
       "      <td>Level 3</td>\n",
       "      <td>ZZ11</td>\n",
       "      <td>Food product manufacturing</td>\n",
       "      <td>Percentage</td>\n",
       "      <td>H41</td>\n",
       "      <td>Liabilities structure</td>\n",
       "      <td>Financial ratios</td>\n",
       "      <td>46</td>\n",
       "      <td>ANZSIC06 groups C111, C112, C113, C114, C115, ...</td>\n",
       "    </tr>\n",
       "  </tbody>\n",
       "</table>\n",
       "<p>41715 rows × 10 columns</p>\n",
       "</div>"
      ],
      "text/plain": [
       "       Year Industry_aggregation_NZSIOC Industry_code_NZSIOC  \\\n",
       "0      2021                     Level 1                99999   \n",
       "1      2021                     Level 1                99999   \n",
       "2      2021                     Level 1                99999   \n",
       "3      2021                     Level 1                99999   \n",
       "4      2021                     Level 1                99999   \n",
       "...     ...                         ...                  ...   \n",
       "41710  2013                     Level 3                 ZZ11   \n",
       "41711  2013                     Level 3                 ZZ11   \n",
       "41712  2013                     Level 3                 ZZ11   \n",
       "41713  2013                     Level 3                 ZZ11   \n",
       "41714  2013                     Level 3                 ZZ11   \n",
       "\n",
       "             Industry_name_NZSIOC               Units Variable_code  \\\n",
       "0                  All industries  Dollars (millions)           H01   \n",
       "1                  All industries  Dollars (millions)           H04   \n",
       "2                  All industries  Dollars (millions)           H05   \n",
       "3                  All industries  Dollars (millions)           H07   \n",
       "4                  All industries  Dollars (millions)           H08   \n",
       "...                           ...                 ...           ...   \n",
       "41710  Food product manufacturing          Percentage           H37   \n",
       "41711  Food product manufacturing          Percentage           H38   \n",
       "41712  Food product manufacturing          Percentage           H39   \n",
       "41713  Food product manufacturing          Percentage           H40   \n",
       "41714  Food product manufacturing          Percentage           H41   \n",
       "\n",
       "                                         Variable_name      Variable_category  \\\n",
       "0                                         Total income  Financial performance   \n",
       "1      Sales, government funding, grants and subsidies  Financial performance   \n",
       "2                    Interest, dividends and donations  Financial performance   \n",
       "3                                 Non-operating income  Financial performance   \n",
       "4                                    Total expenditure  Financial performance   \n",
       "...                                                ...                    ...   \n",
       "41710                                      Quick ratio       Financial ratios   \n",
       "41711              Margin on sales of goods for resale       Financial ratios   \n",
       "41712                                 Return on equity       Financial ratios   \n",
       "41713                           Return on total assets       Financial ratios   \n",
       "41714                            Liabilities structure       Financial ratios   \n",
       "\n",
       "         Value                             Industry_code_ANZSIC06  \n",
       "0      757,504  ANZSIC06 divisions A-S (excluding classes K633...  \n",
       "1      674,890  ANZSIC06 divisions A-S (excluding classes K633...  \n",
       "2       49,593  ANZSIC06 divisions A-S (excluding classes K633...  \n",
       "3       33,020  ANZSIC06 divisions A-S (excluding classes K633...  \n",
       "4      654,404  ANZSIC06 divisions A-S (excluding classes K633...  \n",
       "...        ...                                                ...  \n",
       "41710       52  ANZSIC06 groups C111, C112, C113, C114, C115, ...  \n",
       "41711       40  ANZSIC06 groups C111, C112, C113, C114, C115, ...  \n",
       "41712       12  ANZSIC06 groups C111, C112, C113, C114, C115, ...  \n",
       "41713        5  ANZSIC06 groups C111, C112, C113, C114, C115, ...  \n",
       "41714       46  ANZSIC06 groups C111, C112, C113, C114, C115, ...  \n",
       "\n",
       "[41715 rows x 10 columns]"
      ]
     },
     "execution_count": 210,
     "metadata": {},
     "output_type": "execute_result"
    }
   ],
   "source": [
    "pd.read_csv(r'https://www.stats.govt.nz/assets/Uploads/Annual-enterprise-survey/Annual-enterprise-survey-2021-financial-year-provisional/Download-data/annual-enterprise-survey-2021-financial-year-provisional-csv.csv')"
   ]
  },
  {
   "cell_type": "markdown",
   "id": "f7b083c0",
   "metadata": {},
   "source": [
    "#### Html"
   ]
  },
  {
   "cell_type": "code",
   "execution_count": 218,
   "id": "d6fee1e1",
   "metadata": {},
   "outputs": [
    {
     "data": {
      "text/html": [
       "<div>\n",
       "<style scoped>\n",
       "    .dataframe tbody tr th:only-of-type {\n",
       "        vertical-align: middle;\n",
       "    }\n",
       "\n",
       "    .dataframe tbody tr th {\n",
       "        vertical-align: top;\n",
       "    }\n",
       "\n",
       "    .dataframe thead th {\n",
       "        text-align: right;\n",
       "    }\n",
       "</style>\n",
       "<table border=\"1\" class=\"dataframe\">\n",
       "  <thead>\n",
       "    <tr style=\"text-align: right;\">\n",
       "      <th></th>\n",
       "      <th>#</th>\n",
       "      <th>Country</th>\n",
       "      <th>Population(2020)</th>\n",
       "      <th>Land Area (Km²)</th>\n",
       "      <th>Density(P/Km²)</th>\n",
       "    </tr>\n",
       "  </thead>\n",
       "  <tbody>\n",
       "    <tr>\n",
       "      <th>0</th>\n",
       "      <td>1</td>\n",
       "      <td>Afghanistan</td>\n",
       "      <td>38928346</td>\n",
       "      <td>652860</td>\n",
       "      <td>60</td>\n",
       "    </tr>\n",
       "    <tr>\n",
       "      <th>1</th>\n",
       "      <td>2</td>\n",
       "      <td>Albania</td>\n",
       "      <td>2877797</td>\n",
       "      <td>27400</td>\n",
       "      <td>105</td>\n",
       "    </tr>\n",
       "    <tr>\n",
       "      <th>2</th>\n",
       "      <td>3</td>\n",
       "      <td>Algeria</td>\n",
       "      <td>43851044</td>\n",
       "      <td>2381740</td>\n",
       "      <td>18</td>\n",
       "    </tr>\n",
       "    <tr>\n",
       "      <th>3</th>\n",
       "      <td>4</td>\n",
       "      <td>Andorra</td>\n",
       "      <td>77265</td>\n",
       "      <td>470</td>\n",
       "      <td>164</td>\n",
       "    </tr>\n",
       "    <tr>\n",
       "      <th>4</th>\n",
       "      <td>5</td>\n",
       "      <td>Angola</td>\n",
       "      <td>32866272</td>\n",
       "      <td>1246700</td>\n",
       "      <td>26</td>\n",
       "    </tr>\n",
       "    <tr>\n",
       "      <th>...</th>\n",
       "      <td>...</td>\n",
       "      <td>...</td>\n",
       "      <td>...</td>\n",
       "      <td>...</td>\n",
       "      <td>...</td>\n",
       "    </tr>\n",
       "    <tr>\n",
       "      <th>190</th>\n",
       "      <td>191</td>\n",
       "      <td>Venezuela</td>\n",
       "      <td>28435940</td>\n",
       "      <td>882050</td>\n",
       "      <td>32</td>\n",
       "    </tr>\n",
       "    <tr>\n",
       "      <th>191</th>\n",
       "      <td>192</td>\n",
       "      <td>Vietnam</td>\n",
       "      <td>97338579</td>\n",
       "      <td>310070</td>\n",
       "      <td>314</td>\n",
       "    </tr>\n",
       "    <tr>\n",
       "      <th>192</th>\n",
       "      <td>193</td>\n",
       "      <td>Yemen</td>\n",
       "      <td>29825964</td>\n",
       "      <td>527970</td>\n",
       "      <td>56</td>\n",
       "    </tr>\n",
       "    <tr>\n",
       "      <th>193</th>\n",
       "      <td>194</td>\n",
       "      <td>Zambia</td>\n",
       "      <td>18383955</td>\n",
       "      <td>743390</td>\n",
       "      <td>25</td>\n",
       "    </tr>\n",
       "    <tr>\n",
       "      <th>194</th>\n",
       "      <td>195</td>\n",
       "      <td>Zimbabwe</td>\n",
       "      <td>14862924</td>\n",
       "      <td>386850</td>\n",
       "      <td>38</td>\n",
       "    </tr>\n",
       "  </tbody>\n",
       "</table>\n",
       "<p>195 rows × 5 columns</p>\n",
       "</div>"
      ],
      "text/plain": [
       "       #      Country  Population(2020)  Land Area (Km²)  Density(P/Km²)\n",
       "0      1  Afghanistan          38928346           652860              60\n",
       "1      2      Albania           2877797            27400             105\n",
       "2      3      Algeria          43851044          2381740              18\n",
       "3      4      Andorra             77265              470             164\n",
       "4      5       Angola          32866272          1246700              26\n",
       "..   ...          ...               ...              ...             ...\n",
       "190  191    Venezuela          28435940           882050              32\n",
       "191  192      Vietnam          97338579           310070             314\n",
       "192  193        Yemen          29825964           527970              56\n",
       "193  194       Zambia          18383955           743390              25\n",
       "194  195     Zimbabwe          14862924           386850              38\n",
       "\n",
       "[195 rows x 5 columns]"
      ]
     },
     "execution_count": 218,
     "metadata": {},
     "output_type": "execute_result"
    }
   ],
   "source": [
    "df=pd.read_html(r'https://www.worldometers.info/geography/alphabetical-list-of-countries/')[0]\n",
    "df"
   ]
  },
  {
   "cell_type": "code",
   "execution_count": 155,
   "id": "0db87a78",
   "metadata": {
    "scrolled": false
   },
   "outputs": [
    {
     "data": {
      "text/html": [
       "<div>\n",
       "<style scoped>\n",
       "    .dataframe tbody tr th:only-of-type {\n",
       "        vertical-align: middle;\n",
       "    }\n",
       "\n",
       "    .dataframe tbody tr th {\n",
       "        vertical-align: top;\n",
       "    }\n",
       "\n",
       "    .dataframe thead th {\n",
       "        text-align: right;\n",
       "    }\n",
       "</style>\n",
       "<table border=\"1\" class=\"dataframe\">\n",
       "  <thead>\n",
       "    <tr style=\"text-align: right;\">\n",
       "      <th></th>\n",
       "      <th>product</th>\n",
       "      <th>price</th>\n",
       "    </tr>\n",
       "  </thead>\n",
       "  <tbody>\n",
       "    <tr>\n",
       "      <th>0</th>\n",
       "      <td>computer</td>\n",
       "      <td>800</td>\n",
       "    </tr>\n",
       "    <tr>\n",
       "      <th>1</th>\n",
       "      <td>tablet</td>\n",
       "      <td>350</td>\n",
       "    </tr>\n",
       "    <tr>\n",
       "      <th>2</th>\n",
       "      <td>printer</td>\n",
       "      <td>200</td>\n",
       "    </tr>\n",
       "    <tr>\n",
       "      <th>3</th>\n",
       "      <td>keyboard</td>\n",
       "      <td>120</td>\n",
       "    </tr>\n",
       "  </tbody>\n",
       "</table>\n",
       "</div>"
      ],
      "text/plain": [
       "    product  price\n",
       "0  computer    800\n",
       "1    tablet    350\n",
       "2   printer    200\n",
       "3  keyboard    120"
      ]
     },
     "execution_count": 155,
     "metadata": {},
     "output_type": "execute_result"
    }
   ],
   "source": [
    "\n",
    "pd.DataFrame({\"product\":{\"0\":\"computer\",\"1\":\"tablet\",\"2\":\"printer\",\"3\":\"keyboard\"},\"price\":{\"0\":800,\"1\":350,\"2\":200,\"3\":120}})"
   ]
  },
  {
   "cell_type": "code",
   "execution_count": null,
   "id": "13fb1234",
   "metadata": {},
   "outputs": [],
   "source": []
  }
 ],
 "metadata": {
  "kernelspec": {
   "display_name": "Python 3 (ipykernel)",
   "language": "python",
   "name": "python3"
  },
  "language_info": {
   "codemirror_mode": {
    "name": "ipython",
    "version": 3
   },
   "file_extension": ".py",
   "mimetype": "text/x-python",
   "name": "python",
   "nbconvert_exporter": "python",
   "pygments_lexer": "ipython3",
   "version": "3.9.7"
  }
 },
 "nbformat": 4,
 "nbformat_minor": 5
}
